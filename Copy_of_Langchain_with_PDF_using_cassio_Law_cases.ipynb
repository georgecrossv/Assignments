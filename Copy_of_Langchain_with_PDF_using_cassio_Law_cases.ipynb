{
  "cells": [
    {
      "cell_type": "markdown",
      "metadata": {
        "id": "view-in-github",
        "colab_type": "text"
      },
      "source": [
        "<a href=\"https://colab.research.google.com/github/georgecrossv/Assignments/blob/master/Copy_of_Langchain_with_PDF_using_cassio_Law_cases.ipynb\" target=\"_parent\"><img src=\"https://colab.research.google.com/assets/colab-badge.svg\" alt=\"Open In Colab\"/></a>"
      ]
    },
    {
      "cell_type": "markdown",
      "metadata": {
        "id": "oLHkt-bMq4up"
      },
      "source": [
        "# Langchain Retrieval Augmentation (using Law data)\n",
        "Large Language Models (LLMs) have a data freshness problem. The most powerful LLMs in the world, like GPT-4, have no idea about recent world events.\n",
        "\n",
        "The world of LLMs is frozen in time. Their world exists as a static snapshot of the world as it was within their training data.\n",
        "\n",
        "A solution to this problem is retrieval augmentation. The idea behind this is that we retrieve relevant information from an external knowledge base and give that information to our LLM. In this notebook we will learn how to do that. In this demo, external or proprietary data will be stored in Astra DB and used to provide more current LLM responses."
      ],
      "id": "oLHkt-bMq4up"
    },
    {
      "cell_type": "markdown",
      "metadata": {
        "id": "WQUeV_S5q4u0"
      },
      "source": [
        "## Colab-specific setup"
      ],
      "id": "WQUeV_S5q4u0"
    },
    {
      "cell_type": "markdown",
      "metadata": {
        "id": "Z1p8iUgjq4u2"
      },
      "source": [
        "Make sure you have a Database and get ready to upload the Secure Connect Bundle and supply the Token string\n",
        "(see [Pre-requisites](https://cassio.org/start_here/#vector-database) on cassio.org for details).\n",
        "\n",
        "Likewise, ensure you have the necessary secret for the LLM provider of your choice: you'll be asked to input it shortly\n",
        "(see [Pre-requisites](https://cassio.org/start_here/#llm-access) on cassio.org for details).\n",
        "\n",
        "_Note: some portions of this notebook is part of the CassIO documentation. Visit [this page on cassIO.org](https://cassio.org/frameworks/langchain/qa-basic/)._\n"
      ],
      "id": "Z1p8iUgjq4u2"
    },
    {
      "cell_type": "code",
      "execution_count": null,
      "id": "2953d95b",
      "metadata": {
        "id": "2953d95b"
      },
      "outputs": [],
      "source": [
        "# install required dependencies\n",
        "! pip install \\\n",
        "    \"langchain\" \\\n",
        "    \"cassandra-driver>=3.28.0\" \\\n",
        "    \"cassio\" \\\n",
        "    \"google-cloud-aiplatform>=1.25.0\" \\\n",
        "    \"jupyter>=1.0.0\" \\\n",
        "    \"openai==0.27.7\" \\\n",
        "    \"tiktoken==0.4.0\" \\\n",
        "    \"pypdf\" \\\n",
        "    \"transformers\" \\\n",
        "    \"huggingface_hub\" \\\n",
        "    \"sentence_transformers\""
      ]
    },
    {
      "cell_type": "markdown",
      "id": "222f44ff",
      "metadata": {
        "id": "222f44ff"
      },
      "source": [
        "You will likely be asked to \"Restart the Runtime\" at this time, as some dependencies\n",
        "have been upgraded. **Please do restart the runtime now** for a smoother execution from this point onward."
      ]
    },
    {
      "cell_type": "markdown",
      "source": [
        "#Load a PDF file"
      ],
      "metadata": {
        "id": "VTebGKsNENFZ"
      },
      "id": "VTebGKsNENFZ"
    },
    {
      "cell_type": "code",
      "source": [
        "# Upload your PDF document:\n",
        "import os\n",
        "from google.colab import files\n",
        "\n",
        "print('Please upload a PDF to train')\n",
        "uploaded = files.upload()\n",
        "if uploaded:\n",
        "    pdfFileTitle = list(uploaded.keys())[0]\n",
        "    PDF_PATH = os.path.join(os.getcwd(), pdfFileTitle)\n",
        "else:\n",
        "    raise ValueError(\n",
        "        'Cannot proceed loading a PDF file. Please re-run the cell.'\n",
        "    )"
      ],
      "metadata": {
        "id": "vfWxOITlDs9x"
      },
      "id": "vfWxOITlDs9x",
      "execution_count": null,
      "outputs": []
    },
    {
      "cell_type": "code",
      "source": [
        "from langchain.document_loaders import PyPDFLoader\n",
        "\n",
        "loader = PyPDFLoader(PDF_PATH)\n",
        "pages = loader.load_and_split()"
      ],
      "metadata": {
        "id": "Ls2QCj9GEa8U"
      },
      "id": "Ls2QCj9GEa8U",
      "execution_count": null,
      "outputs": []
    },
    {
      "cell_type": "code",
      "source": [
        "pages[0]"
      ],
      "metadata": {
        "id": "Pf30RVLSEhsP"
      },
      "id": "Pf30RVLSEhsP",
      "execution_count": null,
      "outputs": []
    },
    {
      "cell_type": "markdown",
      "source": [
        "# Configure the Astra DB Connection"
      ],
      "metadata": {
        "id": "eZS2Xsy0WY-c"
      },
      "id": "eZS2Xsy0WY-c"
    },
    {
      "cell_type": "code",
      "execution_count": null,
      "metadata": {
        "id": "zh4P-XUDq4u9"
      },
      "outputs": [],
      "source": [
        "# Input your database keyspace name:\n",
        "ASTRA_DB_KEYSPACE = input('Your Astra DB Keyspace name: ')"
      ],
      "id": "zh4P-XUDq4u9"
    },
    {
      "cell_type": "code",
      "source": [],
      "metadata": {
        "id": "nUt_WX6_xwUP"
      },
      "id": "nUt_WX6_xwUP",
      "execution_count": null,
      "outputs": []
    },
    {
      "cell_type": "code",
      "execution_count": null,
      "metadata": {
        "id": "lThGqYchq4u-"
      },
      "outputs": [],
      "source": [
        "# Input your Astra DB token string, the one starting with \"AstraCS:...\"\n",
        "ASTRA_DB_TOKEN_BASED_PASSWORD = input('Your Astra DB Token: ')"
      ],
      "id": "lThGqYchq4u-"
    },
    {
      "cell_type": "markdown",
      "metadata": {
        "id": "QNQ6T_Gjk0Oz"
      },
      "source": [
        "### Astra DB Secure Connect Bundle\n",
        "\n",
        "Please upload the Secure Connect Bundle zipfile to connect to your Astra DB instance.\n",
        "\n",
        "The Secure Connect Bundle is needed to establish a secure connection to the database.\n",
        "Click [here](https://awesome-astra.github.io/docs/pages/astra/download-scb/#c-procedure) for instructions on how to download it from Astra DB."
      ],
      "id": "QNQ6T_Gjk0Oz"
    },
    {
      "cell_type": "code",
      "execution_count": null,
      "metadata": {
        "id": "xnNziXZ1q4vD"
      },
      "outputs": [],
      "source": [
        "# Upload your Secure Connect Bundle zipfile:\n",
        "import os\n",
        "from google.colab import files\n",
        "\n",
        "print('Please upload your Secure Connect Bundle')\n",
        "uploaded = files.upload()\n",
        "if uploaded:\n",
        "    astraBundleFileTitle = list(uploaded.keys())[0]\n",
        "    ASTRA_DB_SECURE_BUNDLE_PATH = os.path.join(os.getcwd(), astraBundleFileTitle)\n",
        "else:\n",
        "    raise ValueError(\n",
        "        'Cannot proceed without Secure Connect Bundle. Please re-run the cell.'\n",
        "    )"
      ],
      "id": "xnNziXZ1q4vD"
    },
    {
      "cell_type": "code",
      "execution_count": null,
      "metadata": {
        "id": "TUDw-07Iq4vE"
      },
      "outputs": [],
      "source": [
        "# colab-specific override of helper functions\n",
        "from cassandra.cluster import (\n",
        "    Cluster,\n",
        ")\n",
        "from cassandra.auth import PlainTextAuthProvider\n",
        "\n",
        "# The \"username\" is the literal string 'token' for this connection mode:\n",
        "ASTRA_DB_TOKEN_BASED_USERNAME = 'token'\n",
        "\n",
        "\n",
        "def getCQLSession(mode='astra_db'):\n",
        "    if mode == 'astra_db':\n",
        "        cluster = Cluster(\n",
        "            cloud={\n",
        "                \"secure_connect_bundle\": ASTRA_DB_SECURE_BUNDLE_PATH,\n",
        "            },\n",
        "            auth_provider=PlainTextAuthProvider(\n",
        "                ASTRA_DB_TOKEN_BASED_USERNAME,\n",
        "                ASTRA_DB_TOKEN_BASED_PASSWORD,\n",
        "            ),\n",
        "        )\n",
        "        astraSession = cluster.connect()\n",
        "        return astraSession\n",
        "    else:\n",
        "        raise ValueError('Unsupported CQL Session mode')\n",
        "\n",
        "def getCQLKeyspace(mode='astra_db'):\n",
        "    if mode == 'astra_db':\n",
        "        return ASTRA_DB_KEYSPACE\n",
        "    else:\n",
        "        raise ValueError('Unsupported CQL Session mode')"
      ],
      "id": "TUDw-07Iq4vE"
    },
    {
      "cell_type": "markdown",
      "metadata": {
        "id": "QXCQ6T_Gjk0Oz"
      },
      "source": [
        "### LLM Provider\n",
        "\n",
        "In the cell below you can choose between **GCP VertexAI** or **OpenAI** for your LLM services.\n",
        "(See [Pre-requisites](https://cassio.org/start_here/#llm-access) on cassio.org for more details).\n",
        "\n",
        "Make sure you set the `llmProvider` variable and supply the corresponding access secrets in the following cell."
      ],
      "id": "QXCQ6T_Gjk0Oz"
    },
    {
      "cell_type": "code",
      "execution_count": null,
      "metadata": {
        "id": "pGpzZc5zq4vG"
      },
      "outputs": [],
      "source": [
        "# Set your secret(s) for LLM access:\n",
        "llmProvider = 'HuggingFace' # 'OpenAI'   # 'GCP_VertexAI'"
      ],
      "id": "pGpzZc5zq4vG"
    },
    {
      "cell_type": "code",
      "execution_count": null,
      "metadata": {
        "id": "zOFStlEAq4vH"
      },
      "outputs": [],
      "source": [
        "if llmProvider == 'OpenAI':\n",
        "    apiSecret = input(f'Your secret for LLM provider \"{llmProvider}\": ')\n",
        "    os.environ['OPENAI_API_KEY'] = apiSecret\n",
        "elif llmProvider == 'GCP_VertexAI':\n",
        "    # we need a json file\n",
        "    print(f'Please upload your Service Account JSON for the LLM provider \"{llmProvider}\":')\n",
        "    from google.colab import files\n",
        "    uploaded = files.upload()\n",
        "    if uploaded:\n",
        "        vertexAIJsonFileTitle = list(uploaded.keys())[0]\n",
        "        os.environ['GOOGLE_APPLICATION_CREDENTIALS'] = os.path.join(os.getcwd(), vertexAIJsonFileTitle)\n",
        "    else:\n",
        "      raise ValueError(\n",
        "            'No file uploaded. Please re-run the cell.'\n",
        "            )\n",
        "elif llmProvider == 'HuggingFace':\n",
        "    apiSecret = input(f'Your API for Hugging Face \"{llmProvider}\": ')\n",
        "    os.environ['HUGGINGFACEHUB_API_TOKEN'] = apiSecret\n",
        "else:\n",
        "    raise ValueError('Unknown/unsupported LLM Provider')"
      ],
      "id": "zOFStlEAq4vH"
    },
    {
      "cell_type": "markdown",
      "metadata": {
        "id": "W0rYQTmwq4vI"
      },
      "source": [
        "### Colab preamble completed\n",
        "\n",
        "The following cells constitute the demo notebook proper."
      ],
      "id": "W0rYQTmwq4vI"
    },
    {
      "cell_type": "markdown",
      "source": [
        "Test - using Facebook AI Search"
      ],
      "metadata": {
        "id": "j_8_xdFMGa1b"
      },
      "id": "j_8_xdFMGa1b"
    },
    {
      "cell_type": "code",
      "source": [
        "!pip install faiss-cpu"
      ],
      "metadata": {
        "id": "q4VuPMIsHecf"
      },
      "id": "q4VuPMIsHecf",
      "execution_count": null,
      "outputs": []
    },
    {
      "cell_type": "code",
      "source": [
        "from langchain.vectorstores import FAISS\n",
        "from langchain.embeddings.openai import OpenAIEmbeddings\n",
        "\n",
        "faiss_index = FAISS.from_documents(pages, OpenAIEmbeddings())\n",
        "docs = faiss_index.similarity_search(\"What is Account Management?\", k=2)\n",
        "for doc in docs:\n",
        "    print(str(doc.metadata[\"page\"]) + \":\", doc.page_content[:300])"
      ],
      "metadata": {
        "id": "eKT4milTGfUy"
      },
      "id": "eKT4milTGfUy",
      "execution_count": null,
      "outputs": []
    },
    {
      "cell_type": "markdown",
      "id": "6715bc2b",
      "metadata": {
        "id": "6715bc2b"
      },
      "source": [
        "# Vector Similarity Search QA Quickstart"
      ]
    },
    {
      "cell_type": "markdown",
      "id": "761d9b70",
      "metadata": {
        "id": "761d9b70"
      },
      "source": [
        "_**NOTE:** this uses Cassandra's \"Vector Similarity Search\" capability.\n",
        "Make sure you are connecting to a vector-enabled database for this demo._"
      ]
    },
    {
      "cell_type": "code",
      "execution_count": null,
      "id": "042f832e",
      "metadata": {
        "id": "042f832e"
      },
      "outputs": [],
      "source": [
        "from langchain.indexes import VectorstoreIndexCreator\n",
        "from langchain.text_splitter import (\n",
        "    CharacterTextSplitter,\n",
        "    RecursiveCharacterTextSplitter,\n",
        ")\n",
        "from langchain.docstore.document import Document\n",
        "from langchain.document_loaders import TextLoader\n",
        "from langchain.indexes.vectorstore import VectorStoreIndexWrapper"
      ]
    },
    {
      "cell_type": "markdown",
      "id": "4388ac1d",
      "metadata": {
        "id": "4388ac1d"
      },
      "source": [
        "The following line imports the Cassandra flavor of a LangChain vector store:"
      ]
    },
    {
      "cell_type": "code",
      "execution_count": null,
      "id": "d65c46f0",
      "metadata": {
        "id": "d65c46f0"
      },
      "outputs": [],
      "source": [
        "from langchain.vectorstores.cassandra import Cassandra"
      ]
    },
    {
      "cell_type": "markdown",
      "id": "4578a87b",
      "metadata": {
        "id": "4578a87b"
      },
      "source": [
        "A database connection is needed to access Cassandra. The following assumes\n",
        "that a _vector-search-capable Astra DB instance_ is available. Adjust as needed."
      ]
    },
    {
      "cell_type": "code",
      "execution_count": null,
      "id": "11013224",
      "metadata": {
        "id": "11013224"
      },
      "outputs": [],
      "source": [
        "# creation of the DB connection\n",
        "cqlMode = 'astra_db'\n",
        "session = getCQLSession(mode=cqlMode)\n",
        "keyspace = getCQLKeyspace(mode=cqlMode)"
      ]
    },
    {
      "cell_type": "markdown",
      "id": "32e2a156",
      "metadata": {
        "id": "32e2a156"
      },
      "source": [
        "Both an LLM and an embedding function are required.\n",
        "\n",
        "Below is the logic to instantiate the LLM and embeddings of choice. We choose to leave it in the notebooks for clarity."
      ]
    },
    {
      "cell_type": "code",
      "execution_count": null,
      "id": "124e3de4",
      "metadata": {
        "id": "124e3de4"
      },
      "outputs": [],
      "source": [
        "# creation of the LLM resources\n",
        "\n",
        "if llmProvider == 'GCP_VertexAI':\n",
        "    from langchain.llms import VertexAI\n",
        "    from langchain.embeddings import VertexAIEmbeddings\n",
        "    llm = VertexAI()\n",
        "    myEmbedding = VertexAIEmbeddings()\n",
        "    print('LLM+embeddings from VertexAI')\n",
        "elif llmProvider == 'OpenAI':\n",
        "    from langchain.llms import OpenAI\n",
        "    from langchain.embeddings import OpenAIEmbeddings\n",
        "    llm = OpenAI(temperature=0)\n",
        "    myEmbedding = OpenAIEmbeddings()\n",
        "    print('LLM+embeddings from OpenAI')\n",
        "elif llmProvider == 'HuggingFace':\n",
        "    from langchain.llms import HuggingFaceHub\n",
        "    from langchain.embeddings import HuggingFaceEmbeddings\n",
        "    myEmbedding = HuggingFaceEmbeddings()\n",
        "    repo_id = \"databricks/dolly-v2-3b\"\n",
        "    llm = HuggingFaceHub(repo_id=repo_id, model_kwargs={\"temperature\": 0.7, \"max_length\": 500})\n",
        "else:\n",
        "    raise ValueError('Unknown LLM provider.')"
      ]
    },
    {
      "cell_type": "markdown",
      "id": "285f29cf",
      "metadata": {
        "id": "285f29cf"
      },
      "source": [
        "## Langchain Retrieval Augmentation"
      ]
    },
    {
      "cell_type": "markdown",
      "id": "5cf74a31",
      "metadata": {
        "id": "5cf74a31"
      },
      "source": [
        "The following is a minimal usage of the Cassandra vector store. The store is created and filled at once, and is then queried to retrieve relevant parts of the indexed text, which are then stuffed into a prompt finally used to answer a question."
      ]
    },
    {
      "cell_type": "markdown",
      "id": "6f29fc57",
      "metadata": {
        "id": "6f29fc57"
      },
      "source": [
        "The following creates an \"index creator\", which knows about the type of vector store, the embedding to use and how to preprocess the input text:\n",
        "\n",
        "_(Note: stores built with different embedding functions will need different tables. This is why we append the `llmProvider` name to the table name in the next cell.)_"
      ]
    },
    {
      "cell_type": "code",
      "execution_count": null,
      "id": "d2cfe71b",
      "metadata": {
        "id": "d2cfe71b"
      },
      "outputs": [],
      "source": [
        "table_name = 'vs_law_pdf_' + llmProvider\n",
        "\n",
        "index_creator = VectorstoreIndexCreator(\n",
        "    vectorstore_cls=Cassandra,\n",
        "    embedding=myEmbedding,\n",
        "    text_splitter=CharacterTextSplitter(\n",
        "        chunk_size=400,\n",
        "        chunk_overlap=0,\n",
        "    ),\n",
        "    vectorstore_kwargs={\n",
        "        'session': session,\n",
        "        'keyspace': keyspace,\n",
        "        'table_name': table_name,\n",
        "    },\n",
        ")"
      ]
    },
    {
      "cell_type": "markdown",
      "source": [
        "Create the Cassandra Vector Store and clear entries if the table already exists"
      ],
      "metadata": {
        "id": "C7V7uPgvE3yY"
      },
      "id": "C7V7uPgvE3yY"
    },
    {
      "cell_type": "code",
      "source": [
        "myCassandraVStore = Cassandra(\n",
        "    embedding=myEmbedding,\n",
        "    session=session,\n",
        "    keyspace=keyspace,\n",
        "    table_name=table_name,\n",
        ")\n",
        "\n",
        "myCassandraVStore.clear()"
      ],
      "metadata": {
        "id": "SCxWxjRWl8Dg"
      },
      "id": "SCxWxjRWl8Dg",
      "execution_count": null,
      "outputs": []
    },
    {
      "cell_type": "code",
      "source": [
        "mySplitter = RecursiveCharacterTextSplitter(chunk_size=250, chunk_overlap=120)"
      ],
      "metadata": {
        "id": "6ITWD1pqmgeu"
      },
      "id": "6ITWD1pqmgeu",
      "execution_count": null,
      "outputs": []
    },
    {
      "cell_type": "markdown",
      "source": [
        "Create the function for creating a vector index for a Wikipedia entry"
      ],
      "metadata": {
        "id": "oogCCCXcv3yG"
      },
      "id": "oogCCCXcv3yG"
    },
    {
      "cell_type": "code",
      "source": [
        "def create_vector_index_for_page(page, myCassandraVStore):\n",
        "  page_chunks = mySplitter.transform_documents(page)\n",
        "  myCassandraVStore.add_documents(page_chunks)"
      ],
      "metadata": {
        "id": "mbsblXxQwAT9"
      },
      "id": "mbsblXxQwAT9",
      "execution_count": null,
      "outputs": []
    },
    {
      "cell_type": "markdown",
      "source": [
        "Execute the create_vector_index function for each row in the Wikipedia dataframe. It's good time to grab a drink as the next step will take about 90 seconds to complete."
      ],
      "metadata": {
        "id": "ZCXx5rKUxj_z"
      },
      "id": "ZCXx5rKUxj_z"
    },
    {
      "cell_type": "code",
      "source": [
        "loader = PyPDFLoader(PDF_PATH)\n",
        "pages = loader.load_and_split()\n",
        "\n",
        "print(pages[0])"
      ],
      "metadata": {
        "id": "M3K5EOR1xrdO",
        "outputId": "eaa34e61-fd16-49ae-ee22-c27b98cd674e",
        "colab": {
          "base_uri": "https://localhost:8080/"
        }
      },
      "id": "M3K5EOR1xrdO",
      "execution_count": null,
      "outputs": [
        {
          "output_type": "stream",
          "name": "stdout",
          "text": [
            "page_content='563\\n(1)\\nnas,\\ntortious\\ninterfer-\\non\\nboth\\ncounts\\nof\\ncom-\\nII\\nof\\nPlaintiffs\\non\\ncount\\njudgment\\n (2)\\nrelationship\\nand\\ndefa-\\nof\\neconomic\\npay\\nto\\nence\\nKenwood\\nover-\\nfailure\\nof\\nplaint\\nfor\\n counterclaim;\\nmation,\\nFurnas’s\\nstate\\nof\\nMaryland\\nunder\\ncompensation\\ntime\\n mo-\\ndeny\\nwill\\nDefendants’\\nThe\\ncourt\\nlaw.\\nthe\\naffi-\\nPlaintiffs\\nmotion\\nto\\nstrike\\n7.\\nPlain-\\nIII\\nand\\nYI\\nof\\ncounts\\ntion\\nto\\ndismiss\\nBE,\\nL.\\nand\\nthe\\nAshby\\ndavit\\nof\\nChamberlin\\n supervision\\ncomplaint\\nnegligent\\nfor\\ntiffs\\nIS,\\nDENIED;\\nand\\nhereby\\nsame\\nFurnas.\\nnegligence\\nby\\nKenwood\\nand\\nby\\ncopies\\ntransmit\\nof\\nthe\\n8.\\nThe\\nclerk\\nwill\\nmotion\\nto\\nDefendants’\\ngrant\\ncourt\\nwill\\nThe\\nthis\\nto\\nOpinion\\nMemorandum\\nand\\nOrder\\nPlaintiffs\\nand\\nVIII\\nof\\ncounts\\nVII\\ndismiss\\nparties.\\ncounsel\\nfor\\nthe\\nand\\nFur-\\nfailure\\nof\\nKenwood\\ncomplaint\\nfor\\n taxes\\nand\\nMedicare\\npay\\nto\\nretirement\\nnas\\n motion\\nfor\\nsum-\\nPlaintiffs\\nFICA.\\nunder\\n counterclaim\\non\\nFurnas’s\\nmary\\njudgment\\n motion\\nto\\nand\\nPlaintiffs\\ngranted\\nwill\\nbe\\n separate\\nA\\norder\\ndenied.\\nwill\\nbe\\nstrike\\nAN-\\nIn\\nre\\nMICROSOFT\\nCORP.\\nwill\\nfollow.\\nTITRUST\\nLITIGATION\\n ORDER\\nMcCall\\nforegoing\\nin\\nthe\\nthe\\nreasons\\nstated\\nFor\\nv.\\nthis-day\\nOpinion,\\nit\\nis\\nMemorandum\\n Corp.\\nMicrosoft\\n2003,\\nthe\\nStates\\nJanuary,\\nby\\nUnited\\nof\\n Mary-\\nof\\nfor\\nthe\\nDistrict\\nCourt\\nDistrict\\nMoscowitz\\nland,\\nthat:\\nORDERED\\nv.\\nsummary\\nmotion\\nfor\\n1.\\nDefendants’\\nCorp.\\nMicrosoft\\ncom-\\ncount\\nII\\nof\\nPlaintiffs\\njudgment\\non\\n BE,\\nand\\n56\\npursuant\\nto\\nFed.R.Civ.P.\\nplaint\\nHoward\\n IS,\\nDENIED;\\nhereby\\nthe\\nsame\\nv.\\n to\\ndismiss\\n2.\\nDefendants’\\nmotion\\nCorp.\\nMicrosoft\\nVI,\\ncomplaint\\nPlaintiffs\\nIII\\nand\\nof\\ncounts\\n 12(b)(6)\\nBE,\\nand\\nStrickley\\npursuant\\nto\\nFed.R.Civ.P.\\nDENIED;\\nIS,\\nhereby\\nthe\\nsame\\nv.\\n to\\ndismiss\\nDefendants’\\nmotion\\n3.\\nCorp.\\nMicrosoft\\n Plaintiffs\\ncom-\\nand\\nVIII\\nof\\ncounts\\nVII\\n Prentice\\n12(b)(6)\\npursuant\\nto\\nFed.R.Civ.P.\\nplaint\\n GRANTED;\\nIS,\\nBE,\\nhereby\\nsame\\nand\\nthe\\nv.\\n of\\nPlaintiffs\\nVII\\nand\\nVIII\\n4.\\nCounts\\nCorp.\\nMicrosoft\\n and\\nFur-\\nof\\nKenwood\\ncomplaint\\nfor\\nfailure\\nJFM-99-3897,\\n1332,\\nCIV.\\nMDL\\nNos.\\ntaxes\\nand\\nMedicare\\npay\\nto\\nretirement\\nnas\\nJFM-00-2446,\\nJFM-00-2444,\\nCIV.\\nCIV.\\nBE,\\nhereby\\nand\\nthe\\nsame\\nunder\\nFICA\\nJFM-00-2447,\\nJFM-00-2451.\\nCIV.\\nCIV.\\nDISMISSED;\\nARE,\\nCourt,\\nStates\\nDistrict\\nUnited\\nsummary\\njudg-\\nmotion\\nfor\\n5.\\nPlaintiffs\\nMaryland.\\nD.\\ncounterclaim\\nFurnas’s\\nment\\non\\nDefendant\\n 27,\\n2003.\\nJan.\\nGRANTED;\\nIS,\\nBE,\\nhereby\\nthe\\nsame\\nand\\n BE,\\nand\\nthe\\nsame\\n6.\\nJUDGMENT\\nIS,\\nGregory\\nin\\nfavor\\nof\\nENTERED\\nhereby\\nPaukstis,\\nChristopher\\nFur-\\nagainst\\nand\\nJ.' metadata={'source': '/content/McCall v. Microsoft Corp., 241 F. Supp. 2d 563 (2003).pdf', 'page': 0}\n"
          ]
        }
      ]
    },
    {
      "cell_type": "code",
      "source": [
        "print(len(pages))"
      ],
      "metadata": {
        "id": "EW7UFRvdFMYp",
        "outputId": "f7051035-cdfd-40e2-f2df-6974815a2871",
        "colab": {
          "base_uri": "https://localhost:8080/"
        }
      },
      "id": "EW7UFRvdFMYp",
      "execution_count": null,
      "outputs": [
        {
          "output_type": "stream",
          "name": "stdout",
          "text": [
            "4\n"
          ]
        }
      ]
    },
    {
      "cell_type": "code",
      "source": [
        "for page in pages:\n",
        "  page_chunks = mySplitter.transform_documents([page])\n",
        "  myCassandraVStore.add_documents(page_chunks)"
      ],
      "metadata": {
        "id": "bVE2Mf2rFEvp"
      },
      "id": "bVE2Mf2rFEvp",
      "execution_count": null,
      "outputs": []
    },
    {
      "cell_type": "code",
      "source": [
        "index = VectorStoreIndexWrapper(vectorstore=myCassandraVStore)"
      ],
      "metadata": {
        "id": "fySPtKkYmAgh"
      },
      "id": "fySPtKkYmAgh",
      "execution_count": null,
      "outputs": []
    },
    {
      "cell_type": "markdown",
      "source": [
        "Now let's query our proprietory store. We'll ask \"What is Andouille?\""
      ],
      "metadata": {
        "id": "geA-eXncFwvi"
      },
      "id": "geA-eXncFwvi"
    },
    {
      "cell_type": "code",
      "source": [
        "query = \"What is Account Management?\"\n",
        "index.query(query,llm=llm)"
      ],
      "metadata": {
        "id": "cEp-I8wd5Abv",
        "outputId": "b6a4f0eb-0f5b-4c0a-9d35-75d11d688dbe",
        "colab": {
          "base_uri": "https://localhost:8080/",
          "height": 35
        }
      },
      "id": "cEp-I8wd5Abv",
      "execution_count": null,
      "outputs": [
        {
          "output_type": "execute_result",
          "data": {
            "text/plain": [
              "' Account Management is the process of establishing and maintaining a strong relationship with a customer.\\n\\nQuestion:'"
            ],
            "application/vnd.google.colaboratory.intrinsic+json": {
              "type": "string"
            }
          },
          "metadata": {},
          "execution_count": 127
        }
      ]
    },
    {
      "cell_type": "markdown",
      "source": [
        "I'm really interested in what temperature to cook my andouille."
      ],
      "metadata": {
        "id": "tRiU4IMkF6di"
      },
      "id": "tRiU4IMkF6di"
    },
    {
      "cell_type": "code",
      "source": [
        "query = \"What is the background of the McCall v. Microsoft Corp. case?\"\n",
        "index.query(query,llm=llm)\n"
      ],
      "metadata": {
        "id": "S_96yaY45OFw",
        "outputId": "54afa077-32ef-4d06-c8cc-4ec44f692083",
        "colab": {
          "base_uri": "https://localhost:8080/",
          "height": 35
        }
      },
      "id": "S_96yaY45OFw",
      "execution_count": null,
      "outputs": [
        {
          "output_type": "execute_result",
          "data": {
            "text/plain": [
              "' The McCall'"
            ],
            "application/vnd.google.colaboratory.intrinsic+json": {
              "type": "string"
            }
          },
          "metadata": {},
          "execution_count": 26
        }
      ]
    },
    {
      "cell_type": "code",
      "source": [
        "query = \"Who were the key parties involved in the case?\"\n",
        "index.query(query,llm=llm)"
      ],
      "metadata": {
        "id": "XjNaRKGENLAz",
        "outputId": "fb4e9c79-44c7-4659-ef33-9ff9db6f9beb",
        "colab": {
          "base_uri": "https://localhost:8080/",
          "height": 35
        }
      },
      "id": "XjNaRKGENLAz",
      "execution_count": null,
      "outputs": [
        {
          "output_type": "execute_result",
          "data": {
            "text/plain": [
              "'\\nMicrosoft,\\nPaukectis,\\nChristopher,\\nFur-\\nhow,'"
            ],
            "application/vnd.google.colaboratory.intrinsic+json": {
              "type": "string"
            }
          },
          "metadata": {},
          "execution_count": 154
        }
      ]
    },
    {
      "cell_type": "code",
      "source": [
        "query = \"Who were the plaintiffs and who were the defendants?\"\n",
        "index.query(query,llm=llm)"
      ],
      "metadata": {
        "id": "2JpmtYZMy2ur",
        "outputId": "e0cfd580-7925-4c47-cce5-b5ac6de026b4",
        "colab": {
          "base_uri": "https://localhost:8080/",
          "height": 35
        }
      },
      "execution_count": null,
      "outputs": [
        {
          "output_type": "execute_result",
          "data": {
            "text/plain": [
              "' The plaintiffs were the Prentice and Moskowitz families. The defendants were Microsoft and its CEO'"
            ],
            "application/vnd.google.colaboratory.intrinsic+json": {
              "type": "string"
            }
          },
          "metadata": {},
          "execution_count": 155
        }
      ],
      "id": "2JpmtYZMy2ur"
    },
    {
      "cell_type": "markdown",
      "source": [
        "Let's compare this answer to what OpenAi GPT-3 will return"
      ],
      "metadata": {
        "id": "4uJebWz9JfAu"
      },
      "id": "4uJebWz9JfAu"
    },
    {
      "cell_type": "code",
      "source": [
        "import openai\n",
        "\n",
        "openai.api_key = apiSecret\n",
        "response = openai.Completion.create(\n",
        "  engine=\"text-davinci-003\",\n",
        "  prompt=\"What is the background of the McCall v. Microsoft Corp. case?\",\n",
        "  max_tokens=100\n",
        ")\n",
        "\n",
        "print(response.choices[0].text.strip())"
      ],
      "metadata": {
        "id": "zX48Pu3-Jl9B"
      },
      "id": "zX48Pu3-Jl9B",
      "execution_count": null,
      "outputs": []
    },
    {
      "cell_type": "markdown",
      "source": [
        "You've now seen how we can use a LLM to answer the prompt from our Astra Vector Store, but notice that the answer is different from using the LLM directly."
      ],
      "metadata": {
        "id": "GmIdlZngKvtU"
      },
      "id": "GmIdlZngKvtU"
    },
    {
      "cell_type": "markdown",
      "source": [
        "Let's get some information about the source for the response to the question \"What temperature should Andouille be cooked?\""
      ],
      "metadata": {
        "id": "DikzwEj0Gawb"
      },
      "id": "DikzwEj0Gawb"
    },
    {
      "cell_type": "code",
      "source": [
        "retriever = index.vectorstore.as_retriever(search_kwargs={\n",
        "    'k': 2,\n",
        "})"
      ],
      "metadata": {
        "id": "a5MrZWD7uaBa"
      },
      "id": "a5MrZWD7uaBa",
      "execution_count": null,
      "outputs": []
    },
    {
      "cell_type": "code",
      "source": [
        "retriever.get_relevant_documents(\n",
        "    \"What is the background of the McCall v. Microsoft Corp. case?\"\n",
        ")"
      ],
      "metadata": {
        "id": "dg1FUbYoudSr",
        "outputId": "4887bf5c-1289-4a19-c4bf-2e2abbd8afd6",
        "colab": {
          "base_uri": "https://localhost:8080/"
        }
      },
      "id": "dg1FUbYoudSr",
      "execution_count": null,
      "outputs": [
        {
          "output_type": "execute_result",
          "data": {
            "text/plain": [
              "[Document(page_content='violations.\\nLitig.,\\n127\\nCorp.\\nAntitrust\\nre\\nMicrosoft\\n (D.Md.2001).\\n702,\\nMi-\\n722-23\\nF.Supp.2d\\nMaryland\\n—\\nMcCall\\nupon\\nis\\npresent\\nmotion\\nbased\\ncrosoft’s\\nCorp.,\\nv.\\nIn\\nDavidson\\nMicrosoft\\nthat\\ncourt\\ndecisions\\nhave\\nappellate\\nstate\\n336,\\n344,\\n43,\\ncert.', metadata={'page': '2.0', 'source': '/content/McCall v. Microsoft Corp., 241 F. Supp. 2d 563 (2003) (1).pdf'}),\n",
              " Document(page_content='other\\n data\\nhighest\\nthat\\nthe\\ncourt\\nof\\nthe\\nstate\\n6.\\nThe\\nclaims\\nin\\nv.\\nMcCall\\nMicrosoft\\nFeiock,\\nwould\\ndecide\\notherwise.”\\nHicks\\nv.\\nCorp.,\\nother\\nthan\\ninjunctive\\nthe\\nclaims\\nfor\\n624,\\n3,\\n1423,\\n485\\nU.S.\\n630\\nn.\\n108\\nS.Ct.\\n99\\nrelief,\\nare\\ndismissed.\\n (1988);', metadata={'page': '3.0', 'source': '/content/McCall v. Microsoft Corp., 241 F. Supp. 2d 563 (2003) (1).pdf'})]"
            ]
          },
          "metadata": {},
          "execution_count": 115
        }
      ]
    }
  ],
  "metadata": {
    "kernelspec": {
      "display_name": "Python 3",
      "name": "python3"
    },
    "language_info": {
      "codemirror_mode": {
        "name": "ipython",
        "version": 3
      },
      "file_extension": ".py",
      "mimetype": "text/x-python",
      "name": "python",
      "nbconvert_exporter": "python",
      "pygments_lexer": "ipython3"
    },
    "colab": {
      "provenance": [],
      "gpuType": "T4",
      "include_colab_link": true
    },
    "accelerator": "GPU"
  },
  "nbformat": 4,
  "nbformat_minor": 5
}